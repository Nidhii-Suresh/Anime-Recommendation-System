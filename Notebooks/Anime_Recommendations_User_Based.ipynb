{
  "nbformat": 4,
  "nbformat_minor": 0,
  "metadata": {
    "colab": {
      "name": "Anime Recommendations - User Based.ipynb",
      "provenance": []
    },
    "kernelspec": {
      "name": "python3",
      "display_name": "Python 3"
    }
  },
  "cells": [
    {
      "cell_type": "markdown",
      "metadata": {
        "id": "A8fB0-OrGspP",
        "colab_type": "text"
      },
      "source": [
        "## **Collaborative Filtering (User Based)**"
      ]
    },
    {
      "cell_type": "code",
      "metadata": {
        "id": "G9ojOaulJlK6",
        "colab_type": "code",
        "colab": {}
      },
      "source": [
        "#Importing relevant libraries\n",
        "\n",
        "import numpy as np\n",
        "import pandas as pd"
      ],
      "execution_count": 0,
      "outputs": []
    },
    {
      "cell_type": "code",
      "metadata": {
        "id": "DUPpFiAko_k6",
        "colab_type": "code",
        "colab": {}
      },
      "source": [
        "#Loading csv files from drive\n",
        "\n",
        "anime = pd.read_csv('/content/drive/My Drive/anime/anime.csv')\n",
        "reviews = pd.read_csv('/content/drive/My Drive/anime/rating.csv')"
      ],
      "execution_count": 0,
      "outputs": []
    },
    {
      "cell_type": "markdown",
      "metadata": {
        "id": "dJBplefkJOWK",
        "colab_type": "text"
      },
      "source": [
        "## **Inspecting data**"
      ]
    },
    {
      "cell_type": "code",
      "metadata": {
        "id": "4v9k5T9RAuPr",
        "colab_type": "code",
        "outputId": "927a4b4e-4701-4b4d-f1bf-7515f2229c78",
        "colab": {
          "base_uri": "https://localhost:8080/",
          "height": 194
        }
      },
      "source": [
        "#Looking at the contents in anime.csv file\n",
        "\n",
        "anime.head()"
      ],
      "execution_count": 19,
      "outputs": [
        {
          "output_type": "execute_result",
          "data": {
            "text/html": [
              "<div>\n",
              "<style scoped>\n",
              "    .dataframe tbody tr th:only-of-type {\n",
              "        vertical-align: middle;\n",
              "    }\n",
              "\n",
              "    .dataframe tbody tr th {\n",
              "        vertical-align: top;\n",
              "    }\n",
              "\n",
              "    .dataframe thead th {\n",
              "        text-align: right;\n",
              "    }\n",
              "</style>\n",
              "<table border=\"1\" class=\"dataframe\">\n",
              "  <thead>\n",
              "    <tr style=\"text-align: right;\">\n",
              "      <th></th>\n",
              "      <th>anime_id</th>\n",
              "      <th>name</th>\n",
              "      <th>genre</th>\n",
              "      <th>type</th>\n",
              "      <th>episodes</th>\n",
              "      <th>rating</th>\n",
              "      <th>members</th>\n",
              "    </tr>\n",
              "  </thead>\n",
              "  <tbody>\n",
              "    <tr>\n",
              "      <th>0</th>\n",
              "      <td>32281</td>\n",
              "      <td>Kimi no Na wa.</td>\n",
              "      <td>Drama, Romance, School, Supernatural</td>\n",
              "      <td>Movie</td>\n",
              "      <td>1</td>\n",
              "      <td>9.37</td>\n",
              "      <td>200630</td>\n",
              "    </tr>\n",
              "    <tr>\n",
              "      <th>1</th>\n",
              "      <td>5114</td>\n",
              "      <td>Fullmetal Alchemist: Brotherhood</td>\n",
              "      <td>Action, Adventure, Drama, Fantasy, Magic, Mili...</td>\n",
              "      <td>TV</td>\n",
              "      <td>64</td>\n",
              "      <td>9.26</td>\n",
              "      <td>793665</td>\n",
              "    </tr>\n",
              "    <tr>\n",
              "      <th>2</th>\n",
              "      <td>28977</td>\n",
              "      <td>Gintama°</td>\n",
              "      <td>Action, Comedy, Historical, Parody, Samurai, S...</td>\n",
              "      <td>TV</td>\n",
              "      <td>51</td>\n",
              "      <td>9.25</td>\n",
              "      <td>114262</td>\n",
              "    </tr>\n",
              "    <tr>\n",
              "      <th>3</th>\n",
              "      <td>9253</td>\n",
              "      <td>Steins;Gate</td>\n",
              "      <td>Sci-Fi, Thriller</td>\n",
              "      <td>TV</td>\n",
              "      <td>24</td>\n",
              "      <td>9.17</td>\n",
              "      <td>673572</td>\n",
              "    </tr>\n",
              "    <tr>\n",
              "      <th>4</th>\n",
              "      <td>9969</td>\n",
              "      <td>Gintama&amp;#039;</td>\n",
              "      <td>Action, Comedy, Historical, Parody, Samurai, S...</td>\n",
              "      <td>TV</td>\n",
              "      <td>51</td>\n",
              "      <td>9.16</td>\n",
              "      <td>151266</td>\n",
              "    </tr>\n",
              "  </tbody>\n",
              "</table>\n",
              "</div>"
            ],
            "text/plain": [
              "   anime_id                              name  ... rating members\n",
              "0     32281                    Kimi no Na wa.  ...   9.37  200630\n",
              "1      5114  Fullmetal Alchemist: Brotherhood  ...   9.26  793665\n",
              "2     28977                          Gintama°  ...   9.25  114262\n",
              "3      9253                       Steins;Gate  ...   9.17  673572\n",
              "4      9969                     Gintama&#039;  ...   9.16  151266\n",
              "\n",
              "[5 rows x 7 columns]"
            ]
          },
          "metadata": {
            "tags": []
          },
          "execution_count": 19
        }
      ]
    },
    {
      "cell_type": "code",
      "metadata": {
        "id": "hrgBtb8tBM99",
        "colab_type": "code",
        "outputId": "93fdf667-c2a0-412a-daa9-5e9488664882",
        "colab": {
          "base_uri": "https://localhost:8080/",
          "height": 194
        }
      },
      "source": [
        "#Looking at the contents in ratings.csv file\n",
        "\n",
        "reviews.head()"
      ],
      "execution_count": 20,
      "outputs": [
        {
          "output_type": "execute_result",
          "data": {
            "text/html": [
              "<div>\n",
              "<style scoped>\n",
              "    .dataframe tbody tr th:only-of-type {\n",
              "        vertical-align: middle;\n",
              "    }\n",
              "\n",
              "    .dataframe tbody tr th {\n",
              "        vertical-align: top;\n",
              "    }\n",
              "\n",
              "    .dataframe thead th {\n",
              "        text-align: right;\n",
              "    }\n",
              "</style>\n",
              "<table border=\"1\" class=\"dataframe\">\n",
              "  <thead>\n",
              "    <tr style=\"text-align: right;\">\n",
              "      <th></th>\n",
              "      <th>user_id</th>\n",
              "      <th>anime_id</th>\n",
              "      <th>rating</th>\n",
              "    </tr>\n",
              "  </thead>\n",
              "  <tbody>\n",
              "    <tr>\n",
              "      <th>0</th>\n",
              "      <td>1</td>\n",
              "      <td>20</td>\n",
              "      <td>-1</td>\n",
              "    </tr>\n",
              "    <tr>\n",
              "      <th>1</th>\n",
              "      <td>1</td>\n",
              "      <td>24</td>\n",
              "      <td>-1</td>\n",
              "    </tr>\n",
              "    <tr>\n",
              "      <th>2</th>\n",
              "      <td>1</td>\n",
              "      <td>79</td>\n",
              "      <td>-1</td>\n",
              "    </tr>\n",
              "    <tr>\n",
              "      <th>3</th>\n",
              "      <td>1</td>\n",
              "      <td>226</td>\n",
              "      <td>-1</td>\n",
              "    </tr>\n",
              "    <tr>\n",
              "      <th>4</th>\n",
              "      <td>1</td>\n",
              "      <td>241</td>\n",
              "      <td>-1</td>\n",
              "    </tr>\n",
              "  </tbody>\n",
              "</table>\n",
              "</div>"
            ],
            "text/plain": [
              "   user_id  anime_id  rating\n",
              "0        1        20      -1\n",
              "1        1        24      -1\n",
              "2        1        79      -1\n",
              "3        1       226      -1\n",
              "4        1       241      -1"
            ]
          },
          "metadata": {
            "tags": []
          },
          "execution_count": 20
        }
      ]
    },
    {
      "cell_type": "code",
      "metadata": {
        "id": "m4CDlcXdr49i",
        "colab_type": "code",
        "outputId": "ca0453bf-792e-41d1-8404-098af8c82e1a",
        "colab": {
          "base_uri": "https://localhost:8080/",
          "height": 194
        }
      },
      "source": [
        "reviews.tail()"
      ],
      "execution_count": 21,
      "outputs": [
        {
          "output_type": "execute_result",
          "data": {
            "text/html": [
              "<div>\n",
              "<style scoped>\n",
              "    .dataframe tbody tr th:only-of-type {\n",
              "        vertical-align: middle;\n",
              "    }\n",
              "\n",
              "    .dataframe tbody tr th {\n",
              "        vertical-align: top;\n",
              "    }\n",
              "\n",
              "    .dataframe thead th {\n",
              "        text-align: right;\n",
              "    }\n",
              "</style>\n",
              "<table border=\"1\" class=\"dataframe\">\n",
              "  <thead>\n",
              "    <tr style=\"text-align: right;\">\n",
              "      <th></th>\n",
              "      <th>user_id</th>\n",
              "      <th>anime_id</th>\n",
              "      <th>rating</th>\n",
              "    </tr>\n",
              "  </thead>\n",
              "  <tbody>\n",
              "    <tr>\n",
              "      <th>7813732</th>\n",
              "      <td>73515</td>\n",
              "      <td>16512</td>\n",
              "      <td>7</td>\n",
              "    </tr>\n",
              "    <tr>\n",
              "      <th>7813733</th>\n",
              "      <td>73515</td>\n",
              "      <td>17187</td>\n",
              "      <td>9</td>\n",
              "    </tr>\n",
              "    <tr>\n",
              "      <th>7813734</th>\n",
              "      <td>73515</td>\n",
              "      <td>22145</td>\n",
              "      <td>10</td>\n",
              "    </tr>\n",
              "    <tr>\n",
              "      <th>7813735</th>\n",
              "      <td>73516</td>\n",
              "      <td>790</td>\n",
              "      <td>9</td>\n",
              "    </tr>\n",
              "    <tr>\n",
              "      <th>7813736</th>\n",
              "      <td>73516</td>\n",
              "      <td>8074</td>\n",
              "      <td>9</td>\n",
              "    </tr>\n",
              "  </tbody>\n",
              "</table>\n",
              "</div>"
            ],
            "text/plain": [
              "         user_id  anime_id  rating\n",
              "7813732    73515     16512       7\n",
              "7813733    73515     17187       9\n",
              "7813734    73515     22145      10\n",
              "7813735    73516       790       9\n",
              "7813736    73516      8074       9"
            ]
          },
          "metadata": {
            "tags": []
          },
          "execution_count": 21
        }
      ]
    },
    {
      "cell_type": "markdown",
      "metadata": {
        "id": "ErE8TU_uI8cM",
        "colab_type": "text"
      },
      "source": [
        "## **Data Cleaning**"
      ]
    },
    {
      "cell_type": "code",
      "metadata": {
        "id": "mJJNnh5iMoT6",
        "colab_type": "code",
        "outputId": "a12bb36c-a6fd-4115-9e69-6d87c88bfc2d",
        "colab": {
          "base_uri": "https://localhost:8080/",
          "height": 159
        }
      },
      "source": [
        "#Checking for missing values in anime file\n",
        "\n",
        "anime.isnull().sum()"
      ],
      "execution_count": 22,
      "outputs": [
        {
          "output_type": "execute_result",
          "data": {
            "text/plain": [
              "anime_id      0\n",
              "name          0\n",
              "genre        62\n",
              "type         25\n",
              "episodes      0\n",
              "rating      230\n",
              "members       0\n",
              "dtype: int64"
            ]
          },
          "metadata": {
            "tags": []
          },
          "execution_count": 22
        }
      ]
    },
    {
      "cell_type": "markdown",
      "metadata": {
        "id": "gKm685maJff6",
        "colab_type": "text"
      },
      "source": [
        "####*62 Genres and 25 types are not specified*\n",
        "####*230 ratings are not given!*"
      ]
    },
    {
      "cell_type": "code",
      "metadata": {
        "id": "wEW65w6pM3Hf",
        "colab_type": "code",
        "outputId": "9adba823-054b-4d03-a9ad-c1ef55caa56b",
        "colab": {
          "base_uri": "https://localhost:8080/",
          "height": 88
        }
      },
      "source": [
        "#Checking for missing values in ratings file\n",
        "\n",
        "reviews.isnull().sum()"
      ],
      "execution_count": 23,
      "outputs": [
        {
          "output_type": "execute_result",
          "data": {
            "text/plain": [
              "user_id     0\n",
              "anime_id    0\n",
              "rating      0\n",
              "dtype: int64"
            ]
          },
          "metadata": {
            "tags": []
          },
          "execution_count": 23
        }
      ]
    },
    {
      "cell_type": "markdown",
      "metadata": {
        "id": "cT4XgBMZKOo7",
        "colab_type": "text"
      },
      "source": [
        "*No missing values found..* 🎉🎊"
      ]
    },
    {
      "cell_type": "code",
      "metadata": {
        "id": "Nip8E_RoM8Ag",
        "colab_type": "code",
        "outputId": "b63842c5-048f-4e9d-fa6f-ef965bfdb372",
        "colab": {
          "base_uri": "https://localhost:8080/",
          "height": 159
        }
      },
      "source": [
        "#Dealing with the missing values\n",
        "\n",
        "anime['type'] = anime['type'].fillna('None')\n",
        "anime['genre'] = anime['genre'].fillna('None')\n",
        "anime['rating'] = anime['rating'].fillna(anime['rating'].median())\n",
        "anime.isnull().sum()"
      ],
      "execution_count": 24,
      "outputs": [
        {
          "output_type": "execute_result",
          "data": {
            "text/plain": [
              "anime_id    0\n",
              "name        0\n",
              "genre       0\n",
              "type        0\n",
              "episodes    0\n",
              "rating      0\n",
              "members     0\n",
              "dtype: int64"
            ]
          },
          "metadata": {
            "tags": []
          },
          "execution_count": 24
        }
      ]
    },
    {
      "cell_type": "markdown",
      "metadata": {
        "id": "FtITHaJMLEMb",
        "colab_type": "text"
      },
      "source": [
        "Ok! Now that the missing values are dealt with let's move forward"
      ]
    },
    {
      "cell_type": "code",
      "metadata": {
        "id": "PZlA94ZBBf0Q",
        "colab_type": "code",
        "outputId": "cfe38df0-3040-4df0-f8b0-282f84f3e626",
        "colab": {
          "base_uri": "https://localhost:8080/",
          "height": 35
        }
      },
      "source": [
        "len(reviews) #Total length of ratings table"
      ],
      "execution_count": 25,
      "outputs": [
        {
          "output_type": "execute_result",
          "data": {
            "text/plain": [
              "7813737"
            ]
          },
          "metadata": {
            "tags": []
          },
          "execution_count": 25
        }
      ]
    },
    {
      "cell_type": "code",
      "metadata": {
        "id": "ubhPwOftB9VX",
        "colab_type": "code",
        "outputId": "8387396c-0c8b-4749-edba-6aeb9a001b59",
        "colab": {
          "base_uri": "https://localhost:8080/",
          "height": 35
        }
      },
      "source": [
        "len(anime) #Total length of anime table"
      ],
      "execution_count": 26,
      "outputs": [
        {
          "output_type": "execute_result",
          "data": {
            "text/plain": [
              "12294"
            ]
          },
          "metadata": {
            "tags": []
          },
          "execution_count": 26
        }
      ]
    },
    {
      "cell_type": "markdown",
      "metadata": {
        "id": "PpUPmf7AMloj",
        "colab_type": "text"
      },
      "source": [
        "We'll be using **2 systems** for calculating **similarity scores**\n",
        "\n",
        "*   **Eucledian Distance**\n",
        "*   **Pearson Correlation**\n",
        "\n",
        "\n",
        "\n"
      ]
    },
    {
      "cell_type": "markdown",
      "metadata": {
        "id": "yA8F87x2NES1",
        "colab_type": "text"
      },
      "source": [
        "##**Using Eucledian Distance**"
      ]
    },
    {
      "cell_type": "code",
      "metadata": {
        "id": "4wrf0ywKCATp",
        "colab_type": "code",
        "colab": {}
      },
      "source": [
        "count = len(reviews) #Taking the length of reviews into a variable count\n",
        "preferences = {} #Initialising a dictionary \"preferences\""
      ],
      "execution_count": 0,
      "outputs": []
    },
    {
      "cell_type": "code",
      "metadata": {
        "id": "CZ0mL74wDdP_",
        "colab_type": "code",
        "colab": {}
      },
      "source": [
        "#Numpy array\n",
        "review_array = reviews.values"
      ],
      "execution_count": 0,
      "outputs": []
    },
    {
      "cell_type": "code",
      "metadata": {
        "id": "PkeUIqysDnNb",
        "colab_type": "code",
        "colab": {}
      },
      "source": [
        "for i in range(count):\n",
        "    user = review_array[i, 0]\n",
        "    anime = review_array[i, 1]\n",
        "    rating = review_array[i, 2]\n",
        "    \n",
        "    if user not in preferences.keys():\n",
        "        preferences[user] = {}\n",
        "\n",
        "    if rating != -1: #Dealing with the -1 ratings(Anime watched but not rated)\n",
        "        preferences[user][anime] = rating"
      ],
      "execution_count": 0,
      "outputs": []
    },
    {
      "cell_type": "code",
      "metadata": {
        "id": "VeJkdIrMD6Vt",
        "colab_type": "code",
        "colab": {}
      },
      "source": [
        "def sim_euclidian(preferences, person1,person2):\n",
        "    \n",
        "    similarity = {}\n",
        "    \n",
        "    #getting similar anime watched\n",
        "    \n",
        "    for anime in preferences[person1]:\n",
        "        if anime in preferences[person2]:\n",
        "            similarity[anime] = 1\n",
        "    \n",
        "    if len(similarity) == 0:\n",
        "        return 0\n",
        "    \n",
        "    Euclidian_distance = np.sqrt(np.sum([np.power(preferences[person1][anime] - preferences[person2][anime],2) \n",
        "                                 for anime in preferences[person1] if anime in preferences[person2]]))\n",
        "    \n",
        "    return 1/(1 + Euclidian_distance)"
      ],
      "execution_count": 0,
      "outputs": []
    },
    {
      "cell_type": "code",
      "metadata": {
        "id": "XeIfhrz-EEKo",
        "colab_type": "code",
        "colab": {}
      },
      "source": [
        "def top_matches(preferences, person, n = 5, similarity = sim_euclidian):\n",
        "    \n",
        "    scores = [(similarity(preferences,person,reviewer),reviewer) for reviewer in preferences if reviewer != person]\n",
        "    \n",
        "    scores.sort()\n",
        "    scores.reverse()\n",
        "    return scores[:n]"
      ],
      "execution_count": 0,
      "outputs": []
    },
    {
      "cell_type": "code",
      "metadata": {
        "id": "GxagWfF5EHNf",
        "colab_type": "code",
        "colab": {}
      },
      "source": [
        "top_match = top_matches(preferences,1)"
      ],
      "execution_count": 0,
      "outputs": []
    },
    {
      "cell_type": "code",
      "metadata": {
        "id": "cDFO57KfEMd8",
        "colab_type": "code",
        "outputId": "57e25f41-a1d9-4cd5-eec9-d88c2d173704",
        "colab": {
          "base_uri": "https://localhost:8080/",
          "height": 35
        }
      },
      "source": [
        "top_match"
      ],
      "execution_count": 34,
      "outputs": [
        {
          "output_type": "execute_result",
          "data": {
            "text/plain": [
              "[(1.0, 73507), (1.0, 73481), (1.0, 73473), (1.0, 73440), (1.0, 73439)]"
            ]
          },
          "metadata": {
            "tags": []
          },
          "execution_count": 34
        }
      ]
    },
    {
      "cell_type": "code",
      "metadata": {
        "id": "7XyJoXJHEOsu",
        "colab_type": "code",
        "colab": {}
      },
      "source": [
        "def recommendations(preferences, person, similarity = sim_euclidian):\n",
        "    total = {}\n",
        "    simsum = {}\n",
        "    \n",
        "    for reviwer in preferences:\n",
        "        if reviwer == person:\n",
        "            continue\n",
        "        sim = similarity(preferences,person,reviwer)\n",
        "        \n",
        "        if sim <= 0:\n",
        "            continue\n",
        "        for anime in preferences[reviwer]:\n",
        "            \n",
        "            if anime not in preferences[person] or preferences[person][anime] == 0:\n",
        "                total.setdefault(anime,0)\n",
        "                total[anime] += preferences[reviwer][anime] * sim\n",
        "                \n",
        "                simsum.setdefault(anime,0)\n",
        "                simsum[anime] += sim\n",
        "                \n",
        "    ranks = [(total/simsum[anime],anime) for anime,total in total.items()]\n",
        "    \n",
        "    ranks.sort()\n",
        "    ranks.reverse()\n",
        "    \n",
        "    return ranks[:10],person"
      ],
      "execution_count": 0,
      "outputs": []
    },
    {
      "cell_type": "code",
      "metadata": {
        "id": "bA1qHZoAHYYm",
        "colab_type": "code",
        "colab": {}
      },
      "source": [
        "anime = pd.read_csv('/content/drive/My Drive/anime/anime.csv')\n",
        "anime_array = anime.values"
      ],
      "execution_count": 0,
      "outputs": []
    },
    {
      "cell_type": "code",
      "metadata": {
        "id": "k3afee_8HiDz",
        "colab_type": "code",
        "outputId": "e6fc306e-82cf-4701-f1aa-1ad3aa0ef562",
        "colab": {
          "base_uri": "https://localhost:8080/",
          "height": 35
        }
      },
      "source": [
        "anime_array[0][0]"
      ],
      "execution_count": 37,
      "outputs": [
        {
          "output_type": "execute_result",
          "data": {
            "text/plain": [
              "32281"
            ]
          },
          "metadata": {
            "tags": []
          },
          "execution_count": 37
        }
      ]
    },
    {
      "cell_type": "code",
      "metadata": {
        "id": "9XlWqmvTHtvW",
        "colab_type": "code",
        "colab": {}
      },
      "source": [
        "top_rec,user = recommendations(preferences,1)"
      ],
      "execution_count": 0,
      "outputs": []
    },
    {
      "cell_type": "code",
      "metadata": {
        "id": "rbdIi94sHxgW",
        "colab_type": "code",
        "colab": {}
      },
      "source": [
        "anime_list = []\n",
        "\n",
        "for i in top_rec:\n",
        "    for j in range(len(anime_array)):\n",
        "        if i[1] == anime_array[j][0]:\n",
        "            anime_list.append(anime_array[j])"
      ],
      "execution_count": 0,
      "outputs": []
    },
    {
      "cell_type": "code",
      "metadata": {
        "id": "xAZOsCftH3PB",
        "colab_type": "code",
        "outputId": "759f245a-3a6f-4bd5-a8af-7388d80a16d6",
        "colab": {
          "base_uri": "https://localhost:8080/",
          "height": 586
        }
      },
      "source": [
        "print(\"Top Recommendations for you:\\n\")\n",
        "for i in anime_list:\n",
        "    print(\"Anime :\",i[1])\n",
        "    print(\"Genre :\",i[2])\n",
        "    print(\"-\"*50)"
      ],
      "execution_count": 45,
      "outputs": [
        {
          "output_type": "stream",
          "text": [
            "Top Recommendations for you:\n",
            "\n",
            "Anime : STAR BEAT!: Hoshi no Kodou\n",
            "Genre : Music\n",
            "--------------------------------------------------\n",
            "Anime : Shiroi Zou\n",
            "Genre : Action, Historical, Kids\n",
            "--------------------------------------------------\n",
            "Anime : Dededen\n",
            "Genre : Slice of Life\n",
            "--------------------------------------------------\n",
            "Anime : Trapp Ikka Monogatari Specials\n",
            "Genre : Drama, Historical, Music, Romance\n",
            "--------------------------------------------------\n",
            "Anime : Konna Watashitachi ga Nariyuki de Heroine ni Natta Kekka www\n",
            "Genre : Comedy, Fantasy\n",
            "--------------------------------------------------\n",
            "Anime : gdgd Fairies Movie: tte Iu Eiga wa Dou kana...?\n",
            "Genre : Comedy, Fantasy\n",
            "--------------------------------------------------\n",
            "Anime : Meitantei Holmes: Mrs. Hudson Hitojichi Jiken no Maki / Dover Kaikyou no Daikuuchuusen no Maki\n",
            "Genre : Adventure, Comedy, Mystery\n",
            "--------------------------------------------------\n",
            "Anime : Only You: Viva! Cabaret Club\n",
            "Genre : Comedy\n",
            "--------------------------------------------------\n",
            "Anime : Jinzou Konchuu Kabutoborg VxV\n",
            "Genre : Action, Comedy, Fantasy, Game, Shounen\n",
            "--------------------------------------------------\n",
            "Anime : Yokohama Meibutsu: Otoko Katayama-gumi!\n",
            "Genre : Action, School, Shounen\n",
            "--------------------------------------------------\n"
          ],
          "name": "stdout"
        }
      ]
    },
    {
      "cell_type": "markdown",
      "metadata": {
        "id": "lFvpClD8SpZ5",
        "colab_type": "text"
      },
      "source": [
        "## **Using Pearson**"
      ]
    },
    {
      "cell_type": "code",
      "metadata": {
        "id": "mfiuPonIURY1",
        "colab_type": "code",
        "colab": {}
      },
      "source": [
        "count = len(reviews) #Taking the length of reviews into a variable count\n",
        "preferences = {} #Initialising a dictionary \"preferences\""
      ],
      "execution_count": 0,
      "outputs": []
    },
    {
      "cell_type": "code",
      "metadata": {
        "id": "1xxz20yEURP-",
        "colab_type": "code",
        "colab": {}
      },
      "source": [
        "#Numpy array\n",
        "review_array = reviews.values"
      ],
      "execution_count": 0,
      "outputs": []
    },
    {
      "cell_type": "code",
      "metadata": {
        "id": "gfKnrnTCUQ9L",
        "colab_type": "code",
        "colab": {}
      },
      "source": [
        "for i in range(count):\n",
        "    user = review_array[i, 0]\n",
        "    anime = review_array[i, 1]\n",
        "    rating = review_array[i, 2]\n",
        "    \n",
        "    if user not in preferences.keys():\n",
        "        preferences[user] = {}\n",
        "\n",
        "    preferences[user][anime] = rating"
      ],
      "execution_count": 0,
      "outputs": []
    },
    {
      "cell_type": "code",
      "metadata": {
        "id": "VIU_b4O_SpAK",
        "colab_type": "code",
        "colab": {}
      },
      "source": [
        "def sim_pearson(preferences, person1,person2):\n",
        "    \n",
        "    similarity = {}\n",
        "    \n",
        "    #getting similar anime watched\n",
        "    \n",
        "    for anime in preferences[person1]:\n",
        "        if anime in preferences[person2]:\n",
        "            similarity[anime] = 1\n",
        "    \n",
        "    if len(similarity) == 0:\n",
        "        return 0\n",
        "    \n",
        "    sum1 = np.sum([preferences[person1][anime] for anime in similarity])\n",
        "    sum2 = np.sum([preferences[person2][anime] for anime in similarity])\n",
        "    \n",
        "    sum1sq = np.sum([np.power(preferences[person1][anime],2) for anime in similarity])\n",
        "    sum2sq = np.sum([np.power(preferences[person2][anime],2) for anime in similarity])\n",
        "    \n",
        "    pSum = np.sum([preferences[person1][anime] * preferences[person2][anime] for anime in similarity])\n",
        "    \n",
        "    num = pSum - (sum1 * sum2/len(similarity))\n",
        "    den = np.sqrt((sum1sq - np.power(sum1,2)/len(similarity))*(sum2sq - np.power(sum2,2)/len(similarity)))\n",
        "    if den == 0:\n",
        "        return 0\n",
        "    \n",
        "    r = num/den\n",
        "    \n",
        "    return r\n",
        "    "
      ],
      "execution_count": 0,
      "outputs": []
    },
    {
      "cell_type": "code",
      "metadata": {
        "id": "pQ3bhvMGS5aC",
        "colab_type": "code",
        "colab": {}
      },
      "source": [
        "def top_matches(preferences, person, n = 5, similarity = sim_pearson):\n",
        "    \n",
        "    scores = [(similarity(preferences,person,reviewer),reviewer) for reviewer in preferences if reviewer != person]\n",
        "    \n",
        "    scores.sort()\n",
        "    scores.reverse()\n",
        "    return scores[:n]"
      ],
      "execution_count": 0,
      "outputs": []
    },
    {
      "cell_type": "code",
      "metadata": {
        "id": "113xQLkHS790",
        "colab_type": "code",
        "colab": {}
      },
      "source": [
        "top_match = top_matches(preferences,1)"
      ],
      "execution_count": 0,
      "outputs": []
    },
    {
      "cell_type": "code",
      "metadata": {
        "id": "18_2axzFS_Wp",
        "colab_type": "code",
        "outputId": "2006a09d-ff35-4ed5-9929-cb7608426913",
        "colab": {
          "base_uri": "https://localhost:8080/",
          "height": 106
        }
      },
      "source": [
        "top_match"
      ],
      "execution_count": 54,
      "outputs": [
        {
          "output_type": "execute_result",
          "data": {
            "text/plain": [
              "[(1.000000000000011, 35755),\n",
              " (1.000000000000011, 35508),\n",
              " (1.0000000000000084, 32904),\n",
              " (1.0000000000000084, 27924),\n",
              " (1.0000000000000084, 21376)]"
            ]
          },
          "metadata": {
            "tags": []
          },
          "execution_count": 54
        }
      ]
    },
    {
      "cell_type": "code",
      "metadata": {
        "id": "1-ZDjXpsTC3N",
        "colab_type": "code",
        "colab": {}
      },
      "source": [
        "def recommendations(preferences, person, similarity = sim_pearson):\n",
        "    total = {}\n",
        "    simsum = {}\n",
        "    \n",
        "    for reviwer in preferences:\n",
        "        if reviwer == person:\n",
        "            continue\n",
        "        sim = similarity(preferences,person,reviwer)\n",
        "        \n",
        "        if sim <= 0:\n",
        "            continue\n",
        "        for anime in preferences[reviwer]:\n",
        "            \n",
        "            if anime not in preferences[person] or preferences[person][anime] == 0:\n",
        "                \n",
        "                #Formula for calculating the pearson Score \n",
        "                total.setdefault(anime,0)\n",
        "                total[anime] += preferences[reviwer][anime] * sim\n",
        "                \n",
        "                simsum.setdefault(anime,0)\n",
        "                simsum[anime] += sim\n",
        "                \n",
        "    ranks = [(total/simsum[anime],anime) for anime,total in total.items()]\n",
        "    \n",
        "    ranks.sort()\n",
        "    ranks.reverse()\n",
        "    \n",
        "    return ranks[:10],person"
      ],
      "execution_count": 0,
      "outputs": []
    },
    {
      "cell_type": "code",
      "metadata": {
        "id": "d31HhZUmWJYR",
        "colab_type": "code",
        "colab": {}
      },
      "source": [
        "anime = pd.read_csv('/content/drive/My Drive/anime/anime.csv')\n",
        "anime_array = anime.values"
      ],
      "execution_count": 0,
      "outputs": []
    },
    {
      "cell_type": "code",
      "metadata": {
        "id": "SQ_XnbZCTNGZ",
        "colab_type": "code",
        "outputId": "bc451206-1884-4da7-8178-bb2508bf72a4",
        "colab": {
          "base_uri": "https://localhost:8080/",
          "height": 35
        }
      },
      "source": [
        "anime_array[0][0]"
      ],
      "execution_count": 57,
      "outputs": [
        {
          "output_type": "execute_result",
          "data": {
            "text/plain": [
              "32281"
            ]
          },
          "metadata": {
            "tags": []
          },
          "execution_count": 57
        }
      ]
    },
    {
      "cell_type": "code",
      "metadata": {
        "id": "uzF-P-o4TPLI",
        "colab_type": "code",
        "colab": {}
      },
      "source": [
        "top_rec,user = recommendations(preferences,1)"
      ],
      "execution_count": 0,
      "outputs": []
    },
    {
      "cell_type": "code",
      "metadata": {
        "id": "zA52IqNMTSyW",
        "colab_type": "code",
        "colab": {}
      },
      "source": [
        "anime_list = []\n",
        "for i in top_rec:\n",
        "    for j in range(len(anime_array)):\n",
        "        if i[1] == anime_array[j][0]:\n",
        "            anime_list.append(anime_array[j])"
      ],
      "execution_count": 0,
      "outputs": []
    },
    {
      "cell_type": "code",
      "metadata": {
        "id": "Pxr9KMjOTZs7",
        "colab_type": "code",
        "outputId": "3846fc03-0330-456a-f37c-18cf62cc4463",
        "colab": {
          "base_uri": "https://localhost:8080/",
          "height": 586
        }
      },
      "source": [
        "print(\"Top Recommendations for you:\\n\")\n",
        "for i in anime_list:\n",
        "    print(\"Anime :\",i[1])\n",
        "    print(\"Genre :\",i[2])\n",
        "    print(\"-\"*50)"
      ],
      "execution_count": 60,
      "outputs": [
        {
          "output_type": "stream",
          "text": [
            "Top Recommendations for you:\n",
            "\n",
            "Anime : Kirin Monoshiri Yakata\n",
            "Genre : Kids\n",
            "--------------------------------------------------\n",
            "Anime : Midoriyama Koukou Koushien-hen\n",
            "Genre : Comedy, School, Sports\n",
            "--------------------------------------------------\n",
            "Anime : Shiroi Zou\n",
            "Genre : Action, Historical, Kids\n",
            "--------------------------------------------------\n",
            "Anime : Doukyuusei\n",
            "Genre : Kids, Music\n",
            "--------------------------------------------------\n",
            "Anime : Dededen\n",
            "Genre : Slice of Life\n",
            "--------------------------------------------------\n",
            "Anime : Konna Watashitachi ga Nariyuki de Heroine ni Natta Kekka www (TV)\n",
            "Genre : Comedy, Fantasy\n",
            "--------------------------------------------------\n",
            "Anime : Trapp Ikka Monogatari Specials\n",
            "Genre : Drama, Historical, Music, Romance\n",
            "--------------------------------------------------\n",
            "Anime : Konna Watashitachi ga Nariyuki de Heroine ni Natta Kekka www\n",
            "Genre : Comedy, Fantasy\n",
            "--------------------------------------------------\n",
            "Anime : Meitantei Holmes: Mrs. Hudson Hitojichi Jiken no Maki / Dover Kaikyou no Daikuuchuusen no Maki\n",
            "Genre : Adventure, Comedy, Mystery\n",
            "--------------------------------------------------\n",
            "Anime : Jinzou Konchuu Kabutoborg VxV\n",
            "Genre : Action, Comedy, Fantasy, Game, Shounen\n",
            "--------------------------------------------------\n"
          ],
          "name": "stdout"
        }
      ]
    },
    {
      "cell_type": "code",
      "metadata": {
        "id": "hAHKgTYyTeKH",
        "colab_type": "code",
        "colab": {}
      },
      "source": [
        ""
      ],
      "execution_count": 0,
      "outputs": []
    }
  ]
}