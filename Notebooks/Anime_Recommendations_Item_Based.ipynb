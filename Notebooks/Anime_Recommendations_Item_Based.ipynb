{
  "nbformat": 4,
  "nbformat_minor": 0,
  "metadata": {
    "colab": {
      "name": "Anime Recommendations - Item Based.ipynb",
      "provenance": []
    },
    "kernelspec": {
      "name": "python3",
      "display_name": "Python 3"
    }
  },
  "cells": [
    {
      "cell_type": "markdown",
      "metadata": {
        "id": "P7HdvtWXRmKr",
        "colab_type": "text"
      },
      "source": [
        "## **Collaborative Filtering (Item Based)**"
      ]
    },
    {
      "cell_type": "code",
      "metadata": {
        "id": "9eziN-0nKQz2",
        "colab_type": "code",
        "colab": {}
      },
      "source": [
        "#Importing relevant libraries\n",
        "\n",
        "import numpy as np\n",
        "import pandas as pd"
      ],
      "execution_count": 0,
      "outputs": []
    },
    {
      "cell_type": "code",
      "metadata": {
        "id": "2gEMAt_NKXdJ",
        "colab_type": "code",
        "colab": {}
      },
      "source": [
        "#Loading csv files from drive\n",
        "\n",
        "anime = pd.read_csv('/content/drive/My Drive/anime/anime.csv')\n",
        "reviews = pd.read_csv('/content/drive/My Drive/anime/rating.csv')"
      ],
      "execution_count": 0,
      "outputs": []
    },
    {
      "cell_type": "markdown",
      "metadata": {
        "id": "TZAo9o_yRzoz",
        "colab_type": "text"
      },
      "source": [
        "## **Inspecting data**"
      ]
    },
    {
      "cell_type": "code",
      "metadata": {
        "id": "q0igN3Q2K3TN",
        "colab_type": "code",
        "colab": {
          "base_uri": "https://localhost:8080/",
          "height": 194
        },
        "outputId": "7f5dfece-3356-49e9-92e8-ecadb00cd200"
      },
      "source": [
        "#Looking at the contents in anime.csv file\n",
        "\n",
        "anime.head()"
      ],
      "execution_count": 20,
      "outputs": [
        {
          "output_type": "execute_result",
          "data": {
            "text/html": [
              "<div>\n",
              "<style scoped>\n",
              "    .dataframe tbody tr th:only-of-type {\n",
              "        vertical-align: middle;\n",
              "    }\n",
              "\n",
              "    .dataframe tbody tr th {\n",
              "        vertical-align: top;\n",
              "    }\n",
              "\n",
              "    .dataframe thead th {\n",
              "        text-align: right;\n",
              "    }\n",
              "</style>\n",
              "<table border=\"1\" class=\"dataframe\">\n",
              "  <thead>\n",
              "    <tr style=\"text-align: right;\">\n",
              "      <th></th>\n",
              "      <th>anime_id</th>\n",
              "      <th>name</th>\n",
              "      <th>genre</th>\n",
              "      <th>type</th>\n",
              "      <th>episodes</th>\n",
              "      <th>rating</th>\n",
              "      <th>members</th>\n",
              "    </tr>\n",
              "  </thead>\n",
              "  <tbody>\n",
              "    <tr>\n",
              "      <th>0</th>\n",
              "      <td>32281</td>\n",
              "      <td>Kimi no Na wa.</td>\n",
              "      <td>Drama, Romance, School, Supernatural</td>\n",
              "      <td>Movie</td>\n",
              "      <td>1</td>\n",
              "      <td>9.37</td>\n",
              "      <td>200630</td>\n",
              "    </tr>\n",
              "    <tr>\n",
              "      <th>1</th>\n",
              "      <td>5114</td>\n",
              "      <td>Fullmetal Alchemist: Brotherhood</td>\n",
              "      <td>Action, Adventure, Drama, Fantasy, Magic, Mili...</td>\n",
              "      <td>TV</td>\n",
              "      <td>64</td>\n",
              "      <td>9.26</td>\n",
              "      <td>793665</td>\n",
              "    </tr>\n",
              "    <tr>\n",
              "      <th>2</th>\n",
              "      <td>28977</td>\n",
              "      <td>Gintama°</td>\n",
              "      <td>Action, Comedy, Historical, Parody, Samurai, S...</td>\n",
              "      <td>TV</td>\n",
              "      <td>51</td>\n",
              "      <td>9.25</td>\n",
              "      <td>114262</td>\n",
              "    </tr>\n",
              "    <tr>\n",
              "      <th>3</th>\n",
              "      <td>9253</td>\n",
              "      <td>Steins;Gate</td>\n",
              "      <td>Sci-Fi, Thriller</td>\n",
              "      <td>TV</td>\n",
              "      <td>24</td>\n",
              "      <td>9.17</td>\n",
              "      <td>673572</td>\n",
              "    </tr>\n",
              "    <tr>\n",
              "      <th>4</th>\n",
              "      <td>9969</td>\n",
              "      <td>Gintama&amp;#039;</td>\n",
              "      <td>Action, Comedy, Historical, Parody, Samurai, S...</td>\n",
              "      <td>TV</td>\n",
              "      <td>51</td>\n",
              "      <td>9.16</td>\n",
              "      <td>151266</td>\n",
              "    </tr>\n",
              "  </tbody>\n",
              "</table>\n",
              "</div>"
            ],
            "text/plain": [
              "   anime_id                              name  ... rating members\n",
              "0     32281                    Kimi no Na wa.  ...   9.37  200630\n",
              "1      5114  Fullmetal Alchemist: Brotherhood  ...   9.26  793665\n",
              "2     28977                          Gintama°  ...   9.25  114262\n",
              "3      9253                       Steins;Gate  ...   9.17  673572\n",
              "4      9969                     Gintama&#039;  ...   9.16  151266\n",
              "\n",
              "[5 rows x 7 columns]"
            ]
          },
          "metadata": {
            "tags": []
          },
          "execution_count": 20
        }
      ]
    },
    {
      "cell_type": "code",
      "metadata": {
        "id": "-kNRnd25LFN0",
        "colab_type": "code",
        "colab": {
          "base_uri": "https://localhost:8080/",
          "height": 194
        },
        "outputId": "5503f49e-a4c4-4a72-d7c5-74ffc87c9572"
      },
      "source": [
        "#Looking at the contents in ratings.csv file\n",
        "\n",
        "reviews.head()"
      ],
      "execution_count": 21,
      "outputs": [
        {
          "output_type": "execute_result",
          "data": {
            "text/html": [
              "<div>\n",
              "<style scoped>\n",
              "    .dataframe tbody tr th:only-of-type {\n",
              "        vertical-align: middle;\n",
              "    }\n",
              "\n",
              "    .dataframe tbody tr th {\n",
              "        vertical-align: top;\n",
              "    }\n",
              "\n",
              "    .dataframe thead th {\n",
              "        text-align: right;\n",
              "    }\n",
              "</style>\n",
              "<table border=\"1\" class=\"dataframe\">\n",
              "  <thead>\n",
              "    <tr style=\"text-align: right;\">\n",
              "      <th></th>\n",
              "      <th>user_id</th>\n",
              "      <th>anime_id</th>\n",
              "      <th>rating</th>\n",
              "    </tr>\n",
              "  </thead>\n",
              "  <tbody>\n",
              "    <tr>\n",
              "      <th>0</th>\n",
              "      <td>1</td>\n",
              "      <td>20</td>\n",
              "      <td>-1</td>\n",
              "    </tr>\n",
              "    <tr>\n",
              "      <th>1</th>\n",
              "      <td>1</td>\n",
              "      <td>24</td>\n",
              "      <td>-1</td>\n",
              "    </tr>\n",
              "    <tr>\n",
              "      <th>2</th>\n",
              "      <td>1</td>\n",
              "      <td>79</td>\n",
              "      <td>-1</td>\n",
              "    </tr>\n",
              "    <tr>\n",
              "      <th>3</th>\n",
              "      <td>1</td>\n",
              "      <td>226</td>\n",
              "      <td>-1</td>\n",
              "    </tr>\n",
              "    <tr>\n",
              "      <th>4</th>\n",
              "      <td>1</td>\n",
              "      <td>241</td>\n",
              "      <td>-1</td>\n",
              "    </tr>\n",
              "  </tbody>\n",
              "</table>\n",
              "</div>"
            ],
            "text/plain": [
              "   user_id  anime_id  rating\n",
              "0        1        20      -1\n",
              "1        1        24      -1\n",
              "2        1        79      -1\n",
              "3        1       226      -1\n",
              "4        1       241      -1"
            ]
          },
          "metadata": {
            "tags": []
          },
          "execution_count": 21
        }
      ]
    },
    {
      "cell_type": "code",
      "metadata": {
        "id": "Lqak5E-6LHDC",
        "colab_type": "code",
        "colab": {
          "base_uri": "https://localhost:8080/",
          "height": 194
        },
        "outputId": "d0bb6ee1-de6a-473c-cfbd-54754313baea"
      },
      "source": [
        "reviews.tail()"
      ],
      "execution_count": 7,
      "outputs": [
        {
          "output_type": "execute_result",
          "data": {
            "text/html": [
              "<div>\n",
              "<style scoped>\n",
              "    .dataframe tbody tr th:only-of-type {\n",
              "        vertical-align: middle;\n",
              "    }\n",
              "\n",
              "    .dataframe tbody tr th {\n",
              "        vertical-align: top;\n",
              "    }\n",
              "\n",
              "    .dataframe thead th {\n",
              "        text-align: right;\n",
              "    }\n",
              "</style>\n",
              "<table border=\"1\" class=\"dataframe\">\n",
              "  <thead>\n",
              "    <tr style=\"text-align: right;\">\n",
              "      <th></th>\n",
              "      <th>user_id</th>\n",
              "      <th>anime_id</th>\n",
              "      <th>rating</th>\n",
              "    </tr>\n",
              "  </thead>\n",
              "  <tbody>\n",
              "    <tr>\n",
              "      <th>7813732</th>\n",
              "      <td>73515</td>\n",
              "      <td>16512</td>\n",
              "      <td>7</td>\n",
              "    </tr>\n",
              "    <tr>\n",
              "      <th>7813733</th>\n",
              "      <td>73515</td>\n",
              "      <td>17187</td>\n",
              "      <td>9</td>\n",
              "    </tr>\n",
              "    <tr>\n",
              "      <th>7813734</th>\n",
              "      <td>73515</td>\n",
              "      <td>22145</td>\n",
              "      <td>10</td>\n",
              "    </tr>\n",
              "    <tr>\n",
              "      <th>7813735</th>\n",
              "      <td>73516</td>\n",
              "      <td>790</td>\n",
              "      <td>9</td>\n",
              "    </tr>\n",
              "    <tr>\n",
              "      <th>7813736</th>\n",
              "      <td>73516</td>\n",
              "      <td>8074</td>\n",
              "      <td>9</td>\n",
              "    </tr>\n",
              "  </tbody>\n",
              "</table>\n",
              "</div>"
            ],
            "text/plain": [
              "         user_id  anime_id  rating\n",
              "7813732    73515     16512       7\n",
              "7813733    73515     17187       9\n",
              "7813734    73515     22145      10\n",
              "7813735    73516       790       9\n",
              "7813736    73516      8074       9"
            ]
          },
          "metadata": {
            "tags": []
          },
          "execution_count": 7
        }
      ]
    },
    {
      "cell_type": "markdown",
      "metadata": {
        "id": "RB6zXrtoSCwk",
        "colab_type": "text"
      },
      "source": [
        "## **Data Cleaning**"
      ]
    },
    {
      "cell_type": "code",
      "metadata": {
        "id": "ohX8q5W6LI5a",
        "colab_type": "code",
        "colab": {
          "base_uri": "https://localhost:8080/",
          "height": 159
        },
        "outputId": "2258bd41-29ba-4b56-8f6f-9a68888bdec7"
      },
      "source": [
        "#Checking for missing values in anime file\n",
        "\n",
        "anime.isnull().sum()"
      ],
      "execution_count": 22,
      "outputs": [
        {
          "output_type": "execute_result",
          "data": {
            "text/plain": [
              "anime_id      0\n",
              "name          0\n",
              "genre        62\n",
              "type         25\n",
              "episodes      0\n",
              "rating      230\n",
              "members       0\n",
              "dtype: int64"
            ]
          },
          "metadata": {
            "tags": []
          },
          "execution_count": 22
        }
      ]
    },
    {
      "cell_type": "markdown",
      "metadata": {
        "id": "edgESOXTSPjs",
        "colab_type": "text"
      },
      "source": [
        "####*62 Genres and 25 types are not specified*\n",
        "####*230 ratings are not given!*"
      ]
    },
    {
      "cell_type": "code",
      "metadata": {
        "id": "B3RPOt97LLCj",
        "colab_type": "code",
        "colab": {
          "base_uri": "https://localhost:8080/",
          "height": 88
        },
        "outputId": "bb01045f-b3de-435c-ff6e-0f8c8437428d"
      },
      "source": [
        "#Checking for missing values in ratings file\n",
        "\n",
        "reviews.isnull().sum()"
      ],
      "execution_count": 23,
      "outputs": [
        {
          "output_type": "execute_result",
          "data": {
            "text/plain": [
              "user_id     0\n",
              "anime_id    0\n",
              "rating      0\n",
              "dtype: int64"
            ]
          },
          "metadata": {
            "tags": []
          },
          "execution_count": 23
        }
      ]
    },
    {
      "cell_type": "markdown",
      "metadata": {
        "id": "3TdCZyLCSXfl",
        "colab_type": "text"
      },
      "source": [
        "*No missing values found..* 🎉🎊"
      ]
    },
    {
      "cell_type": "code",
      "metadata": {
        "id": "FAb_qjC0LMtS",
        "colab_type": "code",
        "colab": {
          "base_uri": "https://localhost:8080/",
          "height": 159
        },
        "outputId": "82a87c40-dd65-4f45-a20a-c08ea5404ebe"
      },
      "source": [
        "#Dealing with the missing values\n",
        "\n",
        "anime['type'] = anime['type'].fillna('None')\n",
        "anime['genre'] = anime['genre'].fillna('None')\n",
        "anime['rating'] = anime['rating'].fillna(anime['rating'].median())\n",
        "anime.isnull().sum()"
      ],
      "execution_count": 24,
      "outputs": [
        {
          "output_type": "execute_result",
          "data": {
            "text/plain": [
              "anime_id    0\n",
              "name        0\n",
              "genre       0\n",
              "type        0\n",
              "episodes    0\n",
              "rating      0\n",
              "members     0\n",
              "dtype: int64"
            ]
          },
          "metadata": {
            "tags": []
          },
          "execution_count": 24
        }
      ]
    },
    {
      "cell_type": "code",
      "metadata": {
        "id": "apg-pSGxLPRk",
        "colab_type": "code",
        "colab": {
          "base_uri": "https://localhost:8080/",
          "height": 35
        },
        "outputId": "d371d33b-2504-40ba-da38-69ed1bd85bd2"
      },
      "source": [
        "len(reviews) #Total length of ratings table"
      ],
      "execution_count": 26,
      "outputs": [
        {
          "output_type": "execute_result",
          "data": {
            "text/plain": [
              "7813737"
            ]
          },
          "metadata": {
            "tags": []
          },
          "execution_count": 26
        }
      ]
    },
    {
      "cell_type": "code",
      "metadata": {
        "id": "B_sSFC8LLRRF",
        "colab_type": "code",
        "colab": {
          "base_uri": "https://localhost:8080/",
          "height": 35
        },
        "outputId": "3c9eafb2-6fbb-4499-e1e9-f4ecb666dd56"
      },
      "source": [
        "len(anime) #Total length of anime table"
      ],
      "execution_count": 25,
      "outputs": [
        {
          "output_type": "execute_result",
          "data": {
            "text/plain": [
              "12294"
            ]
          },
          "metadata": {
            "tags": []
          },
          "execution_count": 25
        }
      ]
    },
    {
      "cell_type": "markdown",
      "metadata": {
        "id": "glhNyO5qS13D",
        "colab_type": "text"
      },
      "source": [
        "## **Using Cosine Similarity**"
      ]
    },
    {
      "cell_type": "code",
      "metadata": {
        "id": "yg6IIMlMLSr7",
        "colab_type": "code",
        "colab": {}
      },
      "source": [
        "listOfDictonaries=[]\n",
        "indexMap = {}\n",
        "reverseIndexMap = {}\n",
        "ptr=0;\n",
        "test = reviews\n",
        "test=test[['user_id','rating']].groupby(test['anime_id']) \n",
        "\n",
        "\n",
        "for groupKey in test.groups.keys():\n",
        "    tempDict={}\n",
        "\n",
        "    group = test.get_group(groupKey)   \n",
        "\n",
        "    for i in range(0,len(group)):\n",
        "        tempDict[group.iloc[i,0]]=group.iloc[i,1]\n",
        "    indexMap[ptr]=groupKey                \n",
        "    reverseIndexMap[groupKey] = ptr       \n",
        "    ptr=ptr+1\n",
        "    listOfDictonaries.append(tempDict)"
      ],
      "execution_count": 0,
      "outputs": []
    },
    {
      "cell_type": "code",
      "metadata": {
        "id": "UCol_-PSLYI0",
        "colab_type": "code",
        "colab": {}
      },
      "source": [
        "from sklearn.feature_extraction import DictVectorizer\n",
        "dictVectorizer = DictVectorizer(sparse=True)\n",
        "vector = dictVectorizer.fit_transform(listOfDictonaries)"
      ],
      "execution_count": 0,
      "outputs": []
    },
    {
      "cell_type": "code",
      "metadata": {
        "id": "3NdUT_T3MXKe",
        "colab_type": "code",
        "colab": {
          "base_uri": "https://localhost:8080/",
          "height": 248
        },
        "outputId": "870f6429-b0eb-417e-f8c3-78673ada01a0"
      },
      "source": [
        "from sklearn.metrics.pairwise import cosine_similarity\n",
        "pairwiseSimilarity = cosine_similarity(vector)\n",
        "print(pairwiseSimilarity)"
      ],
      "execution_count": 15,
      "outputs": [
        {
          "output_type": "stream",
          "text": [
            "[[1.00000000e+00 6.03567084e-01 5.30746446e-01 ... 1.12684709e-02\n",
            "  9.62509381e-04 9.62509381e-04]\n",
            " [6.03567084e-01 1.00000000e+00 4.09950884e-01 ... 5.79678828e-03\n",
            "  1.54043346e-03 1.54043346e-03]\n",
            " [5.30746446e-01 4.09950884e-01 1.00000000e+00 ... 7.70190515e-03\n",
            "  1.21186040e-03 1.21186040e-03]\n",
            " ...\n",
            " [1.12684709e-02 5.79678828e-03 7.70190515e-03 ... 1.00000000e+00\n",
            "  0.00000000e+00 0.00000000e+00]\n",
            " [9.62509381e-04 1.54043346e-03 1.21186040e-03 ... 0.00000000e+00\n",
            "  1.00000000e+00 1.00000000e+00]\n",
            " [9.62509381e-04 1.54043346e-03 1.21186040e-03 ... 0.00000000e+00\n",
            "  1.00000000e+00 1.00000000e+00]]\n"
          ],
          "name": "stdout"
        }
      ]
    },
    {
      "cell_type": "code",
      "metadata": {
        "id": "6iBcsS7DMdSi",
        "colab_type": "code",
        "colab": {}
      },
      "source": [
        "def animedetails(anime_id):\n",
        "    print(\"Name:\", anime[anime['anime_id']==anime_id]['name'].values[0])\n",
        "    print(\"Genres:\",anime[anime['anime_id']==anime_id]['genre'].values[0])\n",
        "    print(\"Anime-ID:\",anime_id)\n",
        "    print(\"-\"*40)\n",
        "\n",
        "\n",
        "def topRecommandations(anime_id):\n",
        "    row = reverseIndexMap[anime_id]\n",
        "    print(\"------Anime entered--------\")\n",
        "    animedetails(anime_id)\n",
        "    print(\"-------Recommendations----------\")\n",
        "\n",
        "    similaranime = [animedetails(indexMap[i]) for i in np.argsort(pairwiseSimilarity[row])[-7:-2][::-1]]"
      ],
      "execution_count": 0,
      "outputs": []
    },
    {
      "cell_type": "code",
      "metadata": {
        "id": "J924i2Q0Nn3M",
        "colab_type": "code",
        "colab": {
          "base_uri": "https://localhost:8080/",
          "height": 479
        },
        "outputId": "813ea95d-0a5f-4a64-dad0-b93f08fafafe"
      },
      "source": [
        "topRecommandations(8)"
      ],
      "execution_count": 17,
      "outputs": [
        {
          "output_type": "stream",
          "text": [
            "------Anime entered--------\n",
            "Name: Beet the Vandel Buster\n",
            "Genres: Adventure, Fantasy, Shounen, Supernatural\n",
            "Anime-ID: 8\n",
            "----------------------------------------\n",
            "-------Recommendations----------\n",
            "Name: Onmyou Taisenki\n",
            "Genres: Adventure, Fantasy, Shounen, Supernatural\n",
            "Anime-ID: 613\n",
            "----------------------------------------\n",
            "Name: Kiba\n",
            "Genres: Adventure, Fantasy, Shounen\n",
            "Anime-ID: 845\n",
            "----------------------------------------\n",
            "Name: Rekka no Honoo\n",
            "Genres: Action, Adventure, Martial Arts, Shounen, Super Power\n",
            "Anime-ID: 238\n",
            "----------------------------------------\n",
            "Name: The Law of Ueki\n",
            "Genres: Adventure, Comedy, Drama, Shounen, Supernatural\n",
            "Anime-ID: 479\n",
            "----------------------------------------\n",
            "Name: Groove Adventure Rave\n",
            "Genres: Adventure, Comedy, Fantasy, Romance, Shounen\n",
            "Anime-ID: 246\n",
            "----------------------------------------\n"
          ],
          "name": "stdout"
        }
      ]
    },
    {
      "cell_type": "code",
      "metadata": {
        "id": "tMbUg-WaNuIs",
        "colab_type": "code",
        "colab": {}
      },
      "source": [
        ""
      ],
      "execution_count": 0,
      "outputs": []
    }
  ]
}